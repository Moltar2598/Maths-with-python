{
 "cells": [
  {
   "cell_type": "markdown",
   "metadata": {},
   "source": [
    "Simple Linear Regression"
   ]
  },
  {
   "cell_type": "markdown",
   "metadata": {},
   "source": [
    "Import library"
   ]
  },
  {
   "cell_type": "code",
   "execution_count": 2,
   "metadata": {},
   "outputs": [],
   "source": [
    "import numpy as np\n",
    "import matplotlib.pyplot as plt"
   ]
  },
  {
   "cell_type": "markdown",
   "metadata": {},
   "source": [
    "Below is an ipython, here we take a data containig 2 features 'Correct' and 'Attitude' for ten students."
   ]
  },
  {
   "cell_type": "markdown",
   "metadata": {},
   "source": [
    "'Correct' (x-axis) is the no. of questions answered correctly. Represented by variable c."
   ]
  },
  {
   "cell_type": "markdown",
   "metadata": {},
   "source": [
    "'Attitude' (y-axis) is the marks obtained for the correct answer. Represented by variable a."
   ]
  },
  {
   "cell_type": "code",
   "execution_count": 3,
   "metadata": {},
   "outputs": [],
   "source": [
    "c = np.array([17,13,12,15,16,14,16,16,18,19])\n",
    "a = np.array([94,73,59,80,93,85,66,79,77,91])"
   ]
  },
  {
   "cell_type": "markdown",
   "metadata": {},
   "source": [
    "Scatter plot."
   ]
  },
  {
   "cell_type": "code",
   "execution_count": 4,
   "metadata": {},
   "outputs": [
    {
     "data": {
      "image/png": "[encoded data removed]",
      "text/plain": [
       "<Figure size 432x288 with 1 Axes>"
      ]
     },
     "metadata": {
      "needs_background": "light"
     },
     "output_type": "display_data"
    }
   ],
   "source": [
    "plt.scatter(c,a)\n",
    "plt.title('Scatter plot of the given data.')\n",
    "plt.xlabel('No. of questions(Correct)')\n",
    "plt.ylabel('Marks obtained(Attitude)')\n",
    "plt.show()"
   ]
  },
  {
   "cell_type": "markdown",
   "metadata": {},
   "source": [
    "1.) Linear regression function:                 \n",
    "y = a + bx             \n",
    "a is Y-intersept and b is slope of graph."
   ]
  },
  {
   "cell_type": "markdown",
   "metadata": {},
   "source": [
    "2.) Slope (b) of Regression line:      \n",
    "     b = r(Sy/Sx)           \n",
    "Sx is the standard deviation of x.             \n",
    "Sy is the standard deviation of y.          \n",
    "r is Pearson's correlation coefficient."
   ]
  },
  {
   "cell_type": "markdown",
   "metadata": {},
   "source": [
    "3.) Y-intercept of regression line:                \n",
    "a = ym - (b*xm)           \n",
    "Here, ym is mean of y and xm is mean of x."
   ]
  },
  {
   "cell_type": "markdown",
   "metadata": {},
   "source": [
    "Mean of x and mean of y. Represented as xm and ym respectively."
   ]
  },
  {
   "cell_type": "code",
   "execution_count": 6,
   "metadata": {},
   "outputs": [
    {
     "data": {
      "text/plain": [
       "15.6"
      ]
     },
     "execution_count": 6,
     "metadata": {},
     "output_type": "execute_result"
    }
   ],
   "source": [
    "xm = c.mean()\n",
    "xm"
   ]
  },
  {
   "cell_type": "code",
   "execution_count": 7,
   "metadata": {},
   "outputs": [
    {
     "data": {
      "text/plain": [
       "79.7"
      ]
     },
     "execution_count": 7,
     "metadata": {},
     "output_type": "execute_result"
    }
   ],
   "source": [
    "ym = a.mean()\n",
    "ym"
   ]
  },
  {
   "cell_type": "markdown",
   "metadata": {},
   "source": [
    "Pearson correlation coefficient formula:             \n",
    "r = sigma((xp)*(yp))/(sqrt((sigma(xp**2))*(sigma(yp**2))))"
   ]
  },
  {
   "cell_type": "markdown",
   "metadata": {},
   "source": [
    "Step1: sigma((xp)*(yp))"
   ]
  },
  {
   "cell_type": "markdown",
   "metadata": {},
   "source": [
    "xp = c - xm                  \n",
    "Here, xm is mean of c and c is an array for the no. of questions answered correctly answered by the students."
   ]
  },
  {
   "cell_type": "code",
   "execution_count": 8,
   "metadata": {},
   "outputs": [
    {
     "name": "stdout",
     "output_type": "stream",
     "text": [
      "xp =  [ 1.4 -2.6 -3.6 -0.6  0.4 -1.6  0.4  0.4  2.4  3.4]\n"
     ]
    }
   ],
   "source": [
    "xp = c - xm\n",
    "print('xp = ',xp)"
   ]
  },
  {
   "cell_type": "markdown",
   "metadata": {},
   "source": [
    "yp = a - ym                 \n",
    "Here, ym is mean of a and a is an array for the marks obtained by the students."
   ]
  },
  {
   "cell_type": "code",
   "execution_count": 9,
   "metadata": {},
   "outputs": [
    {
     "name": "stdout",
     "output_type": "stream",
     "text": [
      "yp =  [ 14.3  -6.7 -20.7   0.3  13.3   5.3 -13.7  -0.7  -2.7  11.3]\n"
     ]
    }
   ],
   "source": [
    "yp = a - ym\n",
    "print('yp = ',yp)"
   ]
  },
  {
   "cell_type": "code",
   "execution_count": 10,
   "metadata": {},
   "outputs": [
    {
     "name": "stdout",
     "output_type": "stream",
     "text": [
      "Product of xp and yp =  [20.02 17.42 74.52 -0.18  5.32 -8.48 -5.48 -0.28 -6.48 38.42]\n",
      "Sigma of (xp * yp) =  134.8\n"
     ]
    }
   ],
   "source": [
    "prod_xp_yp = xp * yp\n",
    "print('Product of xp and yp = ',prod_xp_yp)\n",
    "sig_xp_yp = 0\n",
    "for i in prod_xp_yp:\n",
    "    sig_xp_yp += i\n",
    "print('Sigma of (xp * yp) = ',sig_xp_yp)"
   ]
  },
  {
   "cell_type": "markdown",
   "metadata": {},
   "source": [
    "Step2: *(sqrt((sigma(xp^2))x(sigma(yp^2))))*"
   ]
  },
  {
   "cell_type": "code",
   "execution_count": 41,
   "metadata": {},
   "outputs": [
    {
     "name": "stdout",
     "output_type": "stream",
     "text": [
      "square of xp =  [ 1.96  6.76 12.96  0.36  0.16  2.56  0.16  0.16  5.76 11.56]\n",
      "sigma of sq_xp =  42.4\n"
     ]
    }
   ],
   "source": [
    "sq_xp = np.power(xp,2)\n",
    "print('square of xp = ',sq_xp)\n",
    "sig_sq_xp = 0\n",
    "for i in sq_xp:\n",
    "    sig_sq_xp += i\n",
    "print('sigma of sq_xp = ',sig_sq_xp)"
   ]
  },
  {
   "cell_type": "code",
   "execution_count": 42,
   "metadata": {},
   "outputs": [
    {
     "name": "stdout",
     "output_type": "stream",
     "text": [
      "square of yp =  [2.0449e+02 4.4890e+01 4.2849e+02 9.0000e-02 1.7689e+02 2.8090e+01\n",
      " 1.8769e+02 4.9000e-01 7.2900e+00 1.2769e+02]\n",
      "sigma of sq_yp =  1206.1\n"
     ]
    }
   ],
   "source": [
    "sq_yp = np.power(yp,2)\n",
    "print('square of yp = ',sq_yp)\n",
    "sig_sq_yp = 0\n",
    "for i in sq_yp:\n",
    "    sig_sq_yp += i\n",
    "print('sigma of sq_yp = ',sig_sq_yp)"
   ]
  },
  {
   "cell_type": "code",
   "execution_count": 44,
   "metadata": {},
   "outputs": [
    {
     "name": "stdout",
     "output_type": "stream",
     "text": [
      "denominator =  51138.63999999999\n"
     ]
    }
   ],
   "source": [
    "denom = sig_sq_xp*sig_sq_yp\n",
    "print('denominator = ',denom)"
   ]
  },
  {
   "cell_type": "code",
   "execution_count": 45,
   "metadata": {},
   "outputs": [
    {
     "name": "stdout",
     "output_type": "stream",
     "text": [
      "Squareroot of the denominator =  226.1385416066885\n"
     ]
    }
   ],
   "source": [
    "sqrt_denom= np.sqrt(denom)\n",
    "print('Squareroot of the denominator = ',sqrt_denom)"
   ]
  },
  {
   "cell_type": "markdown",
   "metadata": {},
   "source": [
    "Step3: sigma(xp*yp)/sqrt(sigma_denom)"
   ]
  },
  {
   "cell_type": "code",
   "execution_count": 46,
   "metadata": {},
   "outputs": [
    {
     "name": "stdout",
     "output_type": "stream",
     "text": [
      "Pearson's corelation coefficient (r) =  0.5960947613894625\n"
     ]
    }
   ],
   "source": [
    "r = sig_xp_yp/sqrt_denom\n",
    "print(\"Pearson's corelation coefficient (r) = \",r)"
   ]
  },
  {
   "cell_type": "markdown",
   "metadata": {},
   "source": [
    "Slope (b) of regression line:             \n",
    "b = r * (Sy/Sx)"
   ]
  },
  {
   "cell_type": "markdown",
   "metadata": {},
   "source": [
    "Step1: Find standard deviation of y (in this source code y is represented by variable 'a')"
   ]
  },
  {
   "cell_type": "code",
   "execution_count": 53,
   "metadata": {},
   "outputs": [
    {
     "name": "stdout",
     "output_type": "stream",
     "text": [
      "Standard deviation of y =  11.576316819745005\n"
     ]
    }
   ],
   "source": [
    "Sy = np.sqrt(sig_sq_yp/(len(a)-1))\n",
    "print('Standard deviation of y = ',Sy)"
   ]
  },
  {
   "cell_type": "markdown",
   "metadata": {},
   "source": [
    "Step2: Find standard deviation of x (in this source code x is represented by variable 'c')"
   ]
  },
  {
   "cell_type": "code",
   "execution_count": 52,
   "metadata": {},
   "outputs": [
    {
     "name": "stdout",
     "output_type": "stream",
     "text": [
      "Standard deviation of x =  2.1705094128132942\n"
     ]
    }
   ],
   "source": [
    "Sx = np.sqrt(sig_sq_xp/(len(c)-1))\n",
    "print('Standard deviation of x = ',Sx)"
   ]
  },
  {
   "cell_type": "markdown",
   "metadata": {},
   "source": [
    "Step3: Finding the value of b"
   ]
  },
  {
   "cell_type": "code",
   "execution_count": 55,
   "metadata": {},
   "outputs": [
    {
     "name": "stdout",
     "output_type": "stream",
     "text": [
      "Slope b of linear regression =  3.1792452830188687\n"
     ]
    }
   ],
   "source": [
    "b = r*(Sy/Sx)\n",
    "print('Slope b of linear regression = ',b)"
   ]
  },
  {
   "cell_type": "markdown",
   "metadata": {},
   "source": [
    "Y- Intersept of the regression line"
   ]
  },
  {
   "cell_type": "code",
   "execution_count": 57,
   "metadata": {},
   "outputs": [
    {
     "name": "stdout",
     "output_type": "stream",
     "text": [
      "Y-intercept =  30.103773584905653\n"
     ]
    }
   ],
   "source": [
    "a = ym - (b*xm)\n",
    "print('Y-intercept = ',a)"
   ]
  },
  {
   "cell_type": "markdown",
   "metadata": {},
   "source": [
    "Linear regression function"
   ]
  },
  {
   "cell_type": "code",
   "execution_count": 59,
   "metadata": {},
   "outputs": [
    {
     "name": "stdout",
     "output_type": "stream",
     "text": [
      "Linear Regression function =  [84.1509434  71.43396226 68.25471698 77.79245283 80.97169811 74.61320755\n",
      " 80.97169811 80.97169811 87.33018868 90.50943396]\n"
     ]
    }
   ],
   "source": [
    "y = a + (b*c)\n",
    "print('Linear Regression function = ',y)"
   ]
  },
  {
   "cell_type": "markdown",
   "metadata": {},
   "source": [
    "Line plot"
   ]
  },
  {
   "cell_type": "code",
   "execution_count": 66,
   "metadata": {},
   "outputs": [
    {
     "data": {
      "image/png": "[encoded data removed]",
      "text/plain": [
       "<Figure size 432x288 with 1 Axes>"
      ]
     },
     "metadata": {
      "needs_background": "light"
     },
     "output_type": "display_data"
    }
   ],
   "source": [
    "plt.plot(c,y)\n",
    "plt.title('Line plot of the linear regression.')\n",
    "plt.xlabel('No. of questions(Correct)')\n",
    "plt.ylabel('Marks obtained(Attitude)')\n",
    "plt.show()"
   ]
  }
 ],
 "metadata": {
  "interpreter": {
   "hash": "c99a520a13db95d7256f2c15c3d7bcce29de16a70a0824cf053c81b466455a91"
  },
  "kernelspec": {
   "display_name": "Python 3.9.1 64-bit",
   "language": "python",
   "name": "python3"
  },
  "language_info": {
   "codemirror_mode": {
    "name": "ipython",
    "version": 3
   },
   "file_extension": ".py",
   "mimetype": "text/x-python",
   "name": "python",
   "nbconvert_exporter": "python",
   "pygments_lexer": "ipython3",
   "version": "3.9.1"
  },
  "orig_nbformat": 4
 },
 "nbformat": 4,
 "nbformat_minor": 2
}
